{
  "nbformat": 4,
  "nbformat_minor": 0,
  "metadata": {
    "colab": {
      "name": "bibliograyphyExtractor.ipynb",
      "provenance": [],
      "collapsed_sections": []
    },
    "kernelspec": {
      "name": "python3",
      "display_name": "Python 3"
    }
  },
  "cells": [
    {
      "cell_type": "code",
      "metadata": {
        "id": "nKyPFvXiKTaq",
        "outputId": "e6d82ded-4d66-4cc0-cc28-e63a78016c02",
        "colab": {
          "base_uri": "https://localhost:8080/",
          "height": 775
        }
      },
      "source": [
        "#questão 5 usar grupo\n",
        "import re\n",
        "\n",
        "def extraiTrecho(pattern,livro):\n",
        "    p = re.compile(pattern)\n",
        "    m = p.search(livro)\n",
        "    return (m.group(0))\n",
        "#\n",
        "\n",
        "def separaautores(trecho1, trecho2):\n",
        "  autores = re.split(\"\\.,\\s\",trecho1)\n",
        "  for autor in autores:\n",
        "    if autor != \"\":\n",
        "        print(autor.lstrip() + \".\")\n",
        "  print(trecho2 + \"\\n\")\n",
        "#\n",
        "\n",
        "def extraiLivro(livro):\n",
        "    print('autores: '+extraiTrecho(\"(\\w*,\\s[A-Z].((\\s[A-Z].)+)?,\\s*)+\\& (([A-Z]{1}[a-z]+), ([A-Z]{1}\\. ?)+)\",livro))\n",
        "    #separaautores(extraitrecho(\"(\\w*,\\s[A-Z].((\\s[A-Z].)+)?,\\s*)+\\& (([A-Z]{1}[a-z]+), ([A-Z]{1}\\. ?)+)\"))\n",
        "    print('ano: ' + extraiTrecho(\"\\D\\d{4}\\D\",livro))#ano\n",
        "    titulo = re.split(\"\\.\",extraiTrecho(\"[A-Z]{1}[a-z]+\\s+([a-z]+\\s*)+. (\\w+\\s*)+\",livro)) #titulo\n",
        "    print('titulo: ' + titulo[0])   \n",
        "    print('editora: '+ titulo[1].lstrip()+'\\n')\n",
        "    \n",
        "    #SEPARANDO AUTORES\n",
        "    trecho1 = extraiTrecho(\"(\\w*,\\s[A-Z].((\\s[A-Z].)+)?,\\s*)+\",livro)\n",
        "    trecho2 = extraiTrecho(\"\\& (([A-Z]{1}[a-z]+), ([A-Z]{1}\\. ?)+)\",livro)\n",
        "    print(\"autores separados:\")\n",
        "    separaautores(trecho1,trecho2)\n",
        "#\n",
        "\n",
        "extraiLivro('Manning, C. D., Manning, C. D. V., & Schutze, H. (1999). Foundations of statistical natural language processing more anything else. MIT press Edition')\n",
        "\n",
        "extraiLivro('Manning, C. D., Silva, W. V., & Schutze, H. (1999). Foundations of statistical natural language processing. Atica press Edition')\n",
        "\n",
        "extraiLivro('Manning, C. D., Silva, W. V., Brito, P. H. S., & Schutze, H. (1999). Foundations of statistical natural language processing. Atica press Edition')\n",
        "\n",
        "extraiLivro('Manning, C. D., Manning, C. D., & Schutze, H. (1999). Foundations of statistical natural language processing. Atica press Edition')\n"
      ],
      "execution_count": 1,
      "outputs": [
        {
          "output_type": "stream",
          "text": [
            "autores: Manning, C. D., Manning, C. D. V., & Schutze, H. \n",
            "ano: (1999)\n",
            "titulo: Foundations of statistical natural language processing more anything else\n",
            "editora: MIT press Edition\n",
            "\n",
            "autores separados:\n",
            "Manning, C. D.\n",
            "Manning, C. D. V.\n",
            "& Schutze, H. \n",
            "\n",
            "autores: Manning, C. D., Silva, W. V., & Schutze, H. \n",
            "ano: (1999)\n",
            "titulo: Foundations of statistical natural language processing\n",
            "editora: Atica press Edition\n",
            "\n",
            "autores separados:\n",
            "Manning, C. D.\n",
            "Silva, W. V.\n",
            "& Schutze, H. \n",
            "\n",
            "autores: Manning, C. D., Silva, W. V., Brito, P. H. S., & Schutze, H. \n",
            "ano: (1999)\n",
            "titulo: Foundations of statistical natural language processing\n",
            "editora: Atica press Edition\n",
            "\n",
            "autores separados:\n",
            "Manning, C. D.\n",
            "Silva, W. V.\n",
            "Brito, P. H. S.\n",
            "& Schutze, H. \n",
            "\n",
            "autores: Manning, C. D., Manning, C. D., & Schutze, H. \n",
            "ano: (1999)\n",
            "titulo: Foundations of statistical natural language processing\n",
            "editora: Atica press Edition\n",
            "\n",
            "autores separados:\n",
            "Manning, C. D.\n",
            "Manning, C. D.\n",
            "& Schutze, H. \n",
            "\n"
          ],
          "name": "stdout"
        }
      ]
    }
  ]
}